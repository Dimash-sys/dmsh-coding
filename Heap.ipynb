{
 "cells": [
  {
   "cell_type": "code",
   "execution_count": 30,
   "metadata": {},
   "outputs": [],
   "source": [
    "class Heap:\n",
    "    def __init__(self, mas):\n",
    "        self.mas = mas\n",
    "        n = len(self.mas)\n",
    "        i = n - 1\n",
    "        while i >= 0:\n",
    "            self.heapify(i)\n",
    "            i -= 1\n",
    "\n",
    "    def delete_root(self):\n",
    "        self.mas[0], self.mas[-1] = self.mas[-1], self.mas[0]\n",
    "        self.mas.pop()\n",
    "        self.heapify(0)\n",
    "\n",
    "    def get_max(self):\n",
    "        return self.mas[0]\n",
    "\n",
    "    def heapify(self, i):\n",
    "        if self.get_left(i) is None:\n",
    "            return\n",
    "        elif self.get_right(i) is None:\n",
    "            index = self.get_left(i)\n",
    "        elif self.mas[self.get_left(i)] > self.mas[self.get_right(i)]:\n",
    "            index = self.get_left(i)\n",
    "        else:\n",
    "            index = self.get_right(i)\n",
    "        if self.mas[i] < self.mas[index]:\n",
    "            self.mas[i], self.mas[index] = self.mas[index], self.mas[i]\n",
    "            self.heapify(index)\n",
    "\n",
    "    def get_right(self, i):\n",
    "        right = 2 * i + 2\n",
    "        if right < len(self.mas):\n",
    "            return 2 * i + 2\n",
    "        else:\n",
    "            return None\n",
    "\n",
    "    def get_left(self, i):\n",
    "        left = 2 * i + 1\n",
    "        if left < len(self.mas):\n",
    "            return 2 * i + 1\n",
    "        else:\n",
    "            return None\n",
    "\n",
    "\n",
    "def heap_sort(mas):\n",
    "    heap = Heap(mas)\n",
    "    n = len(mas)\n",
    "    res = []\n",
    "    for i in range(n):\n",
    "        res.append(heap.get_max())\n",
    "        heap.delete_root()\n",
    "    return res"
   ]
  },
  {
   "cell_type": "code",
   "execution_count": 31,
   "metadata": {},
   "outputs": [
    {
     "data": {
      "text/plain": [
       "[34, 9, 7, 6, 5, 3, 1]"
      ]
     },
     "execution_count": 31,
     "metadata": {},
     "output_type": "execute_result"
    }
   ],
   "source": [
    "\n",
    "mas  = [3,5,7,6,34 ,1 ,9]\n",
    "mas = heap_sort(mas)\n",
    "mas"
   ]
  },
  {
   "cell_type": "code",
   "execution_count": 5,
   "metadata": {},
   "outputs": [],
   "source": [
    "from pandas import DataFrame"
   ]
  },
  {
   "cell_type": "code",
   "execution_count": 6,
   "metadata": {},
   "outputs": [],
   "source": [
    "data = DataFrame([1, 2, 3])"
   ]
  },
  {
   "cell_type": "code",
   "execution_count": 7,
   "metadata": {},
   "outputs": [
    {
     "data": {
      "text/html": [
       "<div>\n",
       "<style scoped>\n",
       "    .dataframe tbody tr th:only-of-type {\n",
       "        vertical-align: middle;\n",
       "    }\n",
       "\n",
       "    .dataframe tbody tr th {\n",
       "        vertical-align: top;\n",
       "    }\n",
       "\n",
       "    .dataframe thead th {\n",
       "        text-align: right;\n",
       "    }\n",
       "</style>\n",
       "<table border=\"1\" class=\"dataframe\">\n",
       "  <thead>\n",
       "    <tr style=\"text-align: right;\">\n",
       "      <th></th>\n",
       "      <th>0</th>\n",
       "    </tr>\n",
       "  </thead>\n",
       "  <tbody>\n",
       "    <tr>\n",
       "      <th>0</th>\n",
       "      <td>1</td>\n",
       "    </tr>\n",
       "    <tr>\n",
       "      <th>1</th>\n",
       "      <td>2</td>\n",
       "    </tr>\n",
       "    <tr>\n",
       "      <th>2</th>\n",
       "      <td>3</td>\n",
       "    </tr>\n",
       "  </tbody>\n",
       "</table>\n",
       "</div>"
      ],
      "text/plain": [
       "   0\n",
       "0  1\n",
       "1  2\n",
       "2  3"
      ]
     },
     "execution_count": 7,
     "metadata": {},
     "output_type": "execute_result"
    }
   ],
   "source": [
    "data"
   ]
  },
  {
   "cell_type": "code",
   "execution_count": 8,
   "metadata": {},
   "outputs": [],
   "source": [
    "res = []\n",
    "res.append(7)"
   ]
  },
  {
   "cell_type": "code",
   "execution_count": 9,
   "metadata": {},
   "outputs": [
    {
     "data": {
      "text/plain": [
       "[7]"
      ]
     },
     "execution_count": 9,
     "metadata": {},
     "output_type": "execute_result"
    }
   ],
   "source": [
    "res"
   ]
  },
  {
   "cell_type": "code",
   "execution_count": null,
   "metadata": {},
   "outputs": [],
   "source": [
    "class Heap:\n",
    "    ..."
   ]
  }
 ],
 "metadata": {
  "kernelspec": {
   "display_name": "Python 3",
   "language": "python",
   "name": "python3"
  },
  "language_info": {
   "codemirror_mode": {
    "name": "ipython",
    "version": 3
   },
   "file_extension": ".py",
   "mimetype": "text/x-python",
   "name": "python",
   "nbconvert_exporter": "python",
   "pygments_lexer": "ipython3",
   "version": "3.8.2"
  }
 },
 "nbformat": 4,
 "nbformat_minor": 4
}
