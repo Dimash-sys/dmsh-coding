{
 "cells": [
  {
   "cell_type": "markdown",
   "metadata": {},
   "source": [
    "# Домашнее задание\n",
    "\n",
    "1) Прочитай первую главу Кормена\n",
    "\n",
    "2) Реши по 3 задачи из каждого раздела https://pythontutor.ru/\n",
    "\n",
    "3) По аналогии с кодом который я написал на уроке, замерь время встроенной функции сортировки sorted в питоне и сравни с сортировкой что мы написали. Если построишь два графика будет вообще круто."
   ]
  }
 ],
 "metadata": {
  "kernelspec": {
   "display_name": "Python 3",
   "language": "python",
   "name": "python3"
  },
  "language_info": {
   "codemirror_mode": {
    "name": "ipython",
    "version": 3
   },
   "file_extension": ".py",
   "mimetype": "text/x-python",
   "name": "python",
   "nbconvert_exporter": "python",
   "pygments_lexer": "ipython3",
   "version": "3.8.2"
  }
 },
 "nbformat": 4,
 "nbformat_minor": 4
}
